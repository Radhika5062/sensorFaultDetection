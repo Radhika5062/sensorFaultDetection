{
 "cells": [
  {
   "cell_type": "code",
   "execution_count": 5,
   "metadata": {},
   "outputs": [],
   "source": [
    "# Step 1: Create Github Repo\n",
    "# Step 2: Create a local folder\n",
    "# Step 3: Create Virtual Environment\n",
    "# Step 4: Connect our Vs code with Github repo using git clone in terminal\n",
    "# Step 5: Create a folder called Setup. Now add init file to create it as a package. \n",
    "# It is important to convert this folder to package so that we can import the components of this package into other places. \n",
    "# Step 6: Create setup.py file. \n",
    "# Setup.py is created for many purposes:\n",
    "    # to install components\n",
    "    # manage dependencies\n",
    "    # manage distributions\n",
    "    # all the dependencies, packages etc that we need to install, we do it via this file. \n",
    "# step 7: Run the setup file via terminal using python setup.py install command. If you will not use install then it will\n",
    "# throw error."
   ]
  },
  {
   "cell_type": "code",
   "execution_count": 6,
   "metadata": {},
   "outputs": [],
   "source": [
    "# Step 8: Now what is the purpose of egg-info file. So basically whenever we create a package using setup.py then we need\n",
    "# to store the information about the package like its dependencies, metadata etc. so for every package this egg-info file\n",
    "# gets created which stores this information for the package. \n",
    "# When you see the egg-info file then you can surely say that a folder is a package and its contents can be used outside \n",
    "# by importing it. \n",
    "# Step 9: Now we need to create requirements.txt file.\n",
    "# Step 10: Add the install_requires line in the setup.py file. This tells setup.py file that it needs to install\n",
    "# the said dependencies or libraries. \n",
    "# Step 11: run the requirements.txt file. "
   ]
  },
  {
   "cell_type": "code",
   "execution_count": 7,
   "metadata": {},
   "outputs": [],
   "source": [
    "#Day 2 "
   ]
  },
  {
   "cell_type": "code",
   "execution_count": 8,
   "metadata": {},
   "outputs": [],
   "source": [
    "# Step 12: Add the get_requirements() function in the setup.py file and remove the list against the install_packages\n",
    "# line in setup.py.\n",
    "# Add -e . in the requirements.txt file. This is called editable mode. Usually when we run the requirements.txt file then \n",
    "# after this we need to run the setup.py file to find out the packages as packages = find_packages() written in the setup.py\n",
    "# file helps in finding all the packages in our root directory. Now when we write -e . in the requirements.txt file then \n",
    "# what it does is - it automatically runs the setup,.py file which will then start finding the packages. \n",
    "# If we do not have -e . in requirements.txt then we will need to run setup.py manually. "
   ]
  },
  {
   "cell_type": "code",
   "execution_count": null,
   "metadata": {},
   "outputs": [],
   "source": []
  }
 ],
 "metadata": {
  "kernelspec": {
   "display_name": "Python 3",
   "language": "python",
   "name": "python3"
  },
  "language_info": {
   "codemirror_mode": {
    "name": "ipython",
    "version": 3
   },
   "file_extension": ".py",
   "mimetype": "text/x-python",
   "name": "python",
   "nbconvert_exporter": "python",
   "pygments_lexer": "ipython3",
   "version": "3.8.19"
  }
 },
 "nbformat": 4,
 "nbformat_minor": 2
}
